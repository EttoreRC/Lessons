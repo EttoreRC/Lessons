{
 "cells": [
  {
   "cell_type": "markdown",
   "metadata": {
    "toc": true
   },
   "source": [
    "<h1>Table of Contents<span class=\"tocSkip\"></span></h1>\n",
    "<div class=\"toc\"><ul class=\"toc-item\"><li><span><a href=\"#List-Comprehensions\" data-toc-modified-id=\"List-Comprehensions-1\"><span class=\"toc-item-num\">1&nbsp;&nbsp;</span>List Comprehensions</a></span><ul class=\"toc-item\"><li><span><a href=\"#Note\" data-toc-modified-id=\"Note-1.1\"><span class=\"toc-item-num\">1.1&nbsp;&nbsp;</span>Note</a></span></li><li><span><a href=\"#💡--Check-for-understanding\" data-toc-modified-id=\"💡--Check-for-understanding-1.2\"><span class=\"toc-item-num\">1.2&nbsp;&nbsp;</span>💡  Check for understanding</a></span></li><li><span><a href=\"#Conditions-(we-put-IF-in-the-comprehension)\" data-toc-modified-id=\"Conditions-(we-put-IF-in-the-comprehension)-1.3\"><span class=\"toc-item-num\">1.3&nbsp;&nbsp;</span>Conditions (we put IF in the comprehension)</a></span><ul class=\"toc-item\"><li><span><a href=\"#💡-Check-for-understanding\" data-toc-modified-id=\"💡-Check-for-understanding-1.3.1\"><span class=\"toc-item-num\">1.3.1&nbsp;&nbsp;</span>💡 Check for understanding</a></span></li></ul></li><li><span><a href=\"#If-/-Else-in-comprehension\" data-toc-modified-id=\"If-/-Else-in-comprehension-1.4\"><span class=\"toc-item-num\">1.4&nbsp;&nbsp;</span>If / Else in comprehension</a></span></li></ul></li><li><span><a href=\"#Dictionary-Comprehension\" data-toc-modified-id=\"Dictionary-Comprehension-2\"><span class=\"toc-item-num\">2&nbsp;&nbsp;</span>Dictionary Comprehension</a></span><ul class=\"toc-item\"><li><span><a href=\"#💡-Check-for-understanding\" data-toc-modified-id=\"💡-Check-for-understanding-2.1\"><span class=\"toc-item-num\">2.1&nbsp;&nbsp;</span>💡 Check for understanding</a></span></li></ul></li><li><span><a href=\"#Set-Comprehension\" data-toc-modified-id=\"Set-Comprehension-3\"><span class=\"toc-item-num\">3&nbsp;&nbsp;</span>Set Comprehension</a></span><ul class=\"toc-item\"><li><span><a href=\"#💡-Check-for-understanding\" data-toc-modified-id=\"💡-Check-for-understanding-3.1\"><span class=\"toc-item-num\">3.1&nbsp;&nbsp;</span>💡 Check for understanding</a></span></li></ul></li><li><span><a href=\"#Summary\" data-toc-modified-id=\"Summary-4\"><span class=\"toc-item-num\">4&nbsp;&nbsp;</span>Summary</a></span></li><li><span><a href=\"#Extra\" data-toc-modified-id=\"Extra-5\"><span class=\"toc-item-num\">5&nbsp;&nbsp;</span>Extra</a></span><ul class=\"toc-item\"><li><span><a href=\"#Nested-list-comprehensions\" data-toc-modified-id=\"Nested-list-comprehensions-5.1\"><span class=\"toc-item-num\">5.1&nbsp;&nbsp;</span>Nested list comprehensions</a></span></li><li><span><a href=\"#Dict-comprehension-from-two-lists\" data-toc-modified-id=\"Dict-comprehension-from-two-lists-5.2\"><span class=\"toc-item-num\">5.2&nbsp;&nbsp;</span>Dict comprehension from two lists</a></span></li></ul></li></ul></div>"
   ]
  },
  {
   "cell_type": "markdown",
   "metadata": {
    "lang": "en"
   },
   "source": [
    "# List Comprehensions"
   ]
  },
  {
   "cell_type": "markdown",
   "metadata": {},
   "source": [
    "![elgif](https://media.giphy.com/media/8vZY0QZZjJZqmfResk/giphy.gif)"
   ]
  },
  {
   "cell_type": "markdown",
   "metadata": {},
   "source": [
    "List comprehension is an easy to read, compact, and elegant way of **creating a list from any existing iterable object**.\n",
    "\n",
    "List comprehension is a single line of code that you write inside the square brackets. It has three components:\n",
    "\n",
    "- For loop\n",
    "- Condition and expression (optional)\n",
    "- Output\n"
   ]
  },
  {
   "cell_type": "markdown",
   "metadata": {},
   "source": [
    "![imagen_compr](https://stsewd.dev/charla-comprension-de-listas/img/listComprehensions.gif)"
   ]
  },
  {
   "cell_type": "markdown",
   "metadata": {
    "lang": "en"
   },
   "source": [
    "Let's look at an example, we'll leave the optional predicate (if or if/else for later). \n",
    "\n",
    "If we wanted to have a list like the following one, but with all the words in uppercase using a loop, we would do, without list comprehension:"
   ]
  },
  {
   "cell_type": "code",
   "execution_count": null,
   "metadata": {},
   "outputs": [],
   "source": [
    "list_of_words = [\"barcelona\", \"madrid\", \"girona\", \"murcia\"]\n",
    "new_list_words_uppercase = []\n",
    "\n",
    "for city in list_of_words:\n",
    "    new_list_words_uppercase.append(city.upper())\n",
    "new_list_words_uppercase\n",
    "\n",
    "# transform the word into upper\n",
    "# append that transformed word into the new list"
   ]
  },
  {
   "cell_type": "markdown",
   "metadata": {
    "lang": "en"
   },
   "source": [
    "How can we do it with list comprehension?"
   ]
  },
  {
   "cell_type": "code",
   "execution_count": null,
   "metadata": {},
   "outputs": [],
   "source": [
    "# comprehension\n",
    "\n",
    "comp_list = [city.upper() for city in list_of_words]\n",
    "comp_list"
   ]
  },
  {
   "cell_type": "markdown",
   "metadata": {
    "lang": "en"
   },
   "source": [
    "One more example:\n",
    "\n",
    "We want a list containing the squares of the numbers 1 to 10."
   ]
  },
  {
   "cell_type": "code",
   "execution_count": null,
   "metadata": {},
   "outputs": [],
   "source": [
    "# what we have: nothing :/ \n",
    "# goal: squares 1 - 10"
   ]
  },
  {
   "cell_type": "code",
   "execution_count": null,
   "metadata": {},
   "outputs": [],
   "source": [
    "# Regular loop\n",
    "\n",
    "new_list = []\n",
    "for number in range(1, 11):\n",
    "    new_list.append(number ** 2)\n",
    "new_list"
   ]
  },
  {
   "cell_type": "code",
   "execution_count": null,
   "metadata": {},
   "outputs": [],
   "source": [
    "# list comprehension\n",
    "\n",
    "squares = [number**2 for number in range(1,11)]\n",
    "squares"
   ]
  },
  {
   "cell_type": "code",
   "execution_count": 2,
   "metadata": {},
   "outputs": [
    {
     "data": {
      "text/plain": [
       "['Johannes', 'Ettore', 'James', 'Matthew']"
      ]
     },
     "execution_count": 2,
     "metadata": {},
     "output_type": "execute_result"
    }
   ],
   "source": [
    "students = [\"johannes\",\"ettore\",\"james\", \"matthew\"]\n",
    "#create a new list with the names capitalized\n",
    "#use the .capitalize() method\n",
    "#first standard for-loop\n",
    "#second list comprehension\n",
    "\n",
    "new_list = []\n",
    "for student in students:\n",
    "    new_list.append(student.capitalize())\n",
    "new_list\n",
    "\n"
   ]
  },
  {
   "cell_type": "code",
   "execution_count": 6,
   "metadata": {},
   "outputs": [
    {
     "data": {
      "text/plain": [
       "['Johannes', 'Ettore', 'James', 'Matthew']"
      ]
     },
     "execution_count": 6,
     "metadata": {},
     "output_type": "execute_result"
    }
   ],
   "source": [
    "students = [\"johannes\",\"ettore\",\"james\", \"matthew\"]\n",
    "\n",
    "comp_list = [s.capitalize() for s in students]\n",
    "comp_list"
   ]
  },
  {
   "cell_type": "code",
   "execution_count": null,
   "metadata": {},
   "outputs": [],
   "source": []
  },
  {
   "cell_type": "markdown",
   "metadata": {
    "lang": "en"
   },
   "source": [
    "## Note\n",
    "\n",
    "List comprehension in Python offers a more concise way to generate lists **without** the need for **explicitly creating an empty list** to begin with and using the **`.append`** method."
   ]
  },
  {
   "cell_type": "markdown",
   "metadata": {
    "lang": "en"
   },
   "source": [
    "## 💡  Check for understanding \n",
    "\n",
    "Create a new list, substituting \"e's\" for \"a's\" in each word in the original `words` list."
   ]
  },
  {
   "cell_type": "code",
   "execution_count": null,
   "metadata": {},
   "outputs": [],
   "source": [
    "words = ['barcelona', 'madrid', 'gerona', 'murcia']\n",
    "\n",
    "# e -> a"
   ]
  },
  {
   "cell_type": "code",
   "execution_count": null,
   "metadata": {},
   "outputs": [],
   "source": [
    "# for loop\n",
    "new_list = []\n",
    "for city in list_of_words:\n",
    "    \n",
    "    new_list.append(city.replace(\"e\", \"a\"))\n",
    "new_list "
   ]
  },
  {
   "cell_type": "code",
   "execution_count": null,
   "metadata": {},
   "outputs": [],
   "source": [
    "# your code goes here"
   ]
  },
  {
   "cell_type": "code",
   "execution_count": 11,
   "metadata": {},
   "outputs": [
    {
     "data": {
      "text/plain": [
       "['barcalona', 'madrid', 'garona', 'murcia']"
      ]
     },
     "execution_count": 11,
     "metadata": {},
     "output_type": "execute_result"
    }
   ],
   "source": [
    "words = ['barcelona', 'madrid', 'gerona', 'murcia']\n",
    "comp_words = [city.replace(\"e\", \"a\") for city in words]\n",
    "comp_words"
   ]
  },
  {
   "cell_type": "code",
   "execution_count": 13,
   "metadata": {},
   "outputs": [
    {
     "data": {
      "text/plain": [
       "['madrid', 'murcia']"
      ]
     },
     "execution_count": 13,
     "metadata": {},
     "output_type": "execute_result"
    }
   ],
   "source": [
    "words = ['barcelona', 'madrid', 'gerona', 'murcia']\n",
    "comp_words = [city.replace(\"e\", \"a\") for city in words if city[0] ==\"m\"]\n",
    "comp_words"
   ]
  },
  {
   "cell_type": "markdown",
   "metadata": {
    "lang": "en"
   },
   "source": [
    "## Conditions (we put IF in the comprehension)"
   ]
  },
  {
   "cell_type": "markdown",
   "metadata": {},
   "source": [
    "In list comprehension, you can use the `if` and `else` syntax to include conditional statements for filtering and modifying elements while creating a new list. This allows you to conditionally include elements based on certain criteria.\n",
    "\n",
    "Let's look at just including `if` statement."
   ]
  },
  {
   "cell_type": "markdown",
   "metadata": {},
   "source": [
    "<img width=600 src=\"https://www.mrdbourke.com/content/images/2019/09/python-list-comprehension-article.png\">"
   ]
  },
  {
   "cell_type": "markdown",
   "metadata": {},
   "source": [
    "Let's create a list like the following one, but with all the **words** in uppercase using a loop (i.e. ignore the elements that are not strings)"
   ]
  },
  {
   "cell_type": "code",
   "execution_count": null,
   "metadata": {},
   "outputs": [],
   "source": [
    "list_of_words = [\"barcelona\", 2,  3, \"madrid\", \"girona\", 30, \"murcia\"]"
   ]
  },
  {
   "cell_type": "code",
   "execution_count": null,
   "metadata": {},
   "outputs": [],
   "source": [
    "# Goal: ['BARCELONA', 'MADRID', 'GIRONA', 'MURCIA'], nums out\n",
    "\n",
    "# For loop\n",
    "\n",
    "new_list = []\n",
    "for cities in list_of_words:\n",
    "    if type(cities) == str:\n",
    "        new_list.append(cities.upper())\n",
    "print(\"New list: \", new_list)\n",
    "\n",
    "# List Comprehension\n",
    "comp_list_2 = [cities.upper() for cities in list_of_words if type(cities) == str]\n",
    "print(\"Comp list: \", comp_list_2)"
   ]
  },
  {
   "cell_type": "markdown",
   "metadata": {},
   "source": [
    "Let's look at one more example. \n",
    "Let's create a list with the numbers from 0 to 9 that are even. "
   ]
  },
  {
   "cell_type": "code",
   "execution_count": null,
   "metadata": {},
   "outputs": [],
   "source": [
    "# normal way (no comprehension)\n",
    "my_list = list()\n",
    "for x in range(10):\n",
    "    if x%2==0:\n",
    "        my_list.append(x)\n",
    "print(my_list)"
   ]
  },
  {
   "cell_type": "code",
   "execution_count": null,
   "metadata": {},
   "outputs": [],
   "source": [
    "#equiv but in list comprehension\n",
    "my_list = [x for x in range(10) if x%2==0]\n",
    "my_list"
   ]
  },
  {
   "cell_type": "markdown",
   "metadata": {
    "lang": "en"
   },
   "source": [
    "### 💡 Check for understanding\n",
    "\n",
    "We want a new list with words longer than 5 characters."
   ]
  },
  {
   "cell_type": "code",
   "execution_count": 17,
   "metadata": {},
   "outputs": [],
   "source": [
    "list_of_words = ['barcelona', 'madrid', 'gerona', 'murcia']"
   ]
  },
  {
   "cell_type": "code",
   "execution_count": 16,
   "metadata": {},
   "outputs": [
    {
     "data": {
      "text/plain": [
       "['barcelona']"
      ]
     },
     "execution_count": 16,
     "metadata": {},
     "output_type": "execute_result"
    }
   ],
   "source": [
    "#longer than 6 \n",
    "\n",
    "comp_list = [city for city in list_of_words if len(city) >6]\n",
    "comp_list\n"
   ]
  },
  {
   "cell_type": "markdown",
   "metadata": {
    "lang": "en"
   },
   "source": [
    "## If / Else in comprehension\n",
    "\n",
    "Let's look at the syntax when including an `else statement`, that is implemented if the condition is false."
   ]
  },
  {
   "cell_type": "markdown",
   "metadata": {},
   "source": [
    "```python\n",
    "new_list = [expression_if_true if condition else expression_if_false for item in original_list]\n",
    "```\n",
    "\n",
    "Explanation:\n",
    "- `new_list`: The resulting list created using list comprehension.\n",
    "- `expression_if_true`: The value to be included in the new list if the condition is true for the current item.\n",
    "- `condition`: The condition to be checked for each item in the original list.\n",
    "- `expression_if_false`: The value to be included in the new list if the condition is false for the current item.\n",
    "- `item`: The variable representing each element in the original list during iteration.\n"
   ]
  },
  {
   "cell_type": "markdown",
   "metadata": {},
   "source": [
    "In the next example, if the word is longer than 7 characters, we include it as it is in the new list. Otherwise, we just make it uppercase."
   ]
  },
  {
   "cell_type": "code",
   "execution_count": 18,
   "metadata": {},
   "outputs": [],
   "source": [
    "# if longer than 7\n",
    "# else: upper\n",
    "\n",
    "list_of_words = ['barcelona', 'madrid', 'gerona', 'murcia']"
   ]
  },
  {
   "cell_type": "code",
   "execution_count": 19,
   "metadata": {},
   "outputs": [
    {
     "data": {
      "text/plain": [
       "['barcelona', 'MADRID', 'GERONA', 'MURCIA']"
      ]
     },
     "execution_count": 19,
     "metadata": {},
     "output_type": "execute_result"
    }
   ],
   "source": [
    "# For loop\n",
    "\n",
    "new_list = []\n",
    "for city in list_of_words:\n",
    "    if len(city) > 7:\n",
    "        new_list.append(city)\n",
    "    else:\n",
    "        new_list.append(city.upper())\n",
    "new_list"
   ]
  },
  {
   "cell_type": "code",
   "execution_count": 20,
   "metadata": {},
   "outputs": [
    {
     "data": {
      "text/plain": [
       "['barcelona', 'MADRID', 'GERONA', 'MURCIA']"
      ]
     },
     "execution_count": 20,
     "metadata": {},
     "output_type": "execute_result"
    }
   ],
   "source": [
    "# Comprehension list\n",
    "\n",
    "new_list = [city if len(city) > 7 else city.upper() for city in list_of_words]\n",
    "new_list "
   ]
  },
  {
   "cell_type": "code",
   "execution_count": 22,
   "metadata": {},
   "outputs": [
    {
     "ename": "SyntaxError",
     "evalue": "invalid syntax (<ipython-input-22-19a225c80c54>, line 4)",
     "output_type": "error",
     "traceback": [
      "\u001b[1;36m  File \u001b[1;32m\"<ipython-input-22-19a225c80c54>\"\u001b[1;36m, line \u001b[1;32m4\u001b[0m\n\u001b[1;33m    new_list = [city if len(city) > 7 for city in list_of_words]\u001b[0m\n\u001b[1;37m                                      ^\u001b[0m\n\u001b[1;31mSyntaxError\u001b[0m\u001b[1;31m:\u001b[0m invalid syntax\n"
     ]
    }
   ],
   "source": [
    "# Can you have if in the middle without an else?\n",
    "# A: no\n",
    "\n",
    "new_list = [city if len(city) > 7 for city in list_of_words]\n",
    "new_list"
   ]
  },
  {
   "cell_type": "code",
   "execution_count": 21,
   "metadata": {},
   "outputs": [
    {
     "data": {
      "text/plain": [
       "['barcelona']"
      ]
     },
     "execution_count": 21,
     "metadata": {},
     "output_type": "execute_result"
    }
   ],
   "source": [
    "# Q: Can you have multiple ifs?\n",
    "#A: yes, if it is used as a filter as it follows\n",
    "\n",
    "new_list = [city for city in list_of_words if len(city) > 7 if city.upper()]\n",
    "new_list"
   ]
  },
  {
   "cell_type": "code",
   "execution_count": 27,
   "metadata": {},
   "outputs": [
    {
     "data": {
      "text/plain": [
       "['hello', 5, 1]"
      ]
     },
     "execution_count": 27,
     "metadata": {},
     "output_type": "execute_result"
    }
   ],
   "source": [
    "random_list = [\"hello\", 5, 6,[], 1]\n",
    "new_list =[i for i in random_list if i !=6 and i != []]\n",
    "new_list"
   ]
  },
  {
   "cell_type": "markdown",
   "metadata": {},
   "source": [
    "Another example: Converting Odd Numbers to Negative"
   ]
  },
  {
   "cell_type": "code",
   "execution_count": null,
   "metadata": {},
   "outputs": [],
   "source": [
    "numbers = [1, 2, 3, 4, 5, 6, 7, 8, 9, 10]\n",
    "result = [num if num % 2 == 0 else -num for num in numbers]\n",
    "print(result)"
   ]
  },
  {
   "cell_type": "markdown",
   "metadata": {},
   "source": [
    "\n",
    "In the examples above, list comprehension filters and modifies elements based on specific conditions, creating a new list as a result. Using `if` and `else` in list comprehension adds flexibility to the process and allows for more complex transformations of the original list elements."
   ]
  },
  {
   "cell_type": "markdown",
   "metadata": {
    "lang": "en"
   },
   "source": [
    "# Dictionary Comprehension"
   ]
  },
  {
   "cell_type": "markdown",
   "metadata": {},
   "source": [
    "Just like list comprehension, dictionary comprehension offers a clean and efficient way to construct dictionaries in a single line of code.\n",
    "\n",
    "The general syntax for dictionary comprehension is:\n",
    "\n",
    "```python\n",
    "new_dict = {key_expression: value_expression for item in iterable}\n",
    "```"
   ]
  },
  {
   "cell_type": "code",
   "execution_count": 1,
   "metadata": {},
   "outputs": [],
   "source": [
    "dict_numbers = {\"a\": 1, \"b\":2, \"c\": 3, \"d\":4, \"e\":5}"
   ]
  },
  {
   "cell_type": "code",
   "execution_count": 2,
   "metadata": {},
   "outputs": [
    {
     "data": {
      "text/plain": [
       "{'a': 2, 'b': 4, 'c': 6, 'd': 8, 'e': 10}"
      ]
     },
     "execution_count": 2,
     "metadata": {},
     "output_type": "execute_result"
    }
   ],
   "source": [
    "# create a dict without comprehension that has the values of dict\n",
    "# but doubled\n",
    "dict_double = {}\n",
    "for (key,value) in dict_numbers.items():\n",
    "    dict_double[key] = value*2\n",
    "dict_double"
   ]
  },
  {
   "cell_type": "code",
   "execution_count": null,
   "metadata": {},
   "outputs": [],
   "source": [
    "# same with comprehension\n",
    "{key:value*2 for (key,value) in dict_numbers.items()}"
   ]
  },
  {
   "cell_type": "code",
   "execution_count": null,
   "metadata": {},
   "outputs": [],
   "source": [
    "# Create a new dictionary, where the key is the same as dict_2\n",
    "# but the value is \"positive\" if the key >= 0 , and \"negative\" key<0"
   ]
  },
  {
   "cell_type": "code",
   "execution_count": 3,
   "metadata": {},
   "outputs": [],
   "source": [
    "dict_2 = {-10: \"a\", -5:\"b\", 10:\"c\"}"
   ]
  },
  {
   "cell_type": "code",
   "execution_count": 4,
   "metadata": {},
   "outputs": [
    {
     "data": {
      "text/plain": [
       "{-10: 'negative', -5: 'negative', 10: 'positive'}"
      ]
     },
     "execution_count": 4,
     "metadata": {},
     "output_type": "execute_result"
    }
   ],
   "source": [
    "new_dict = {key:(\"positive\" if key>=0 else \"negative\") \n",
    "            for key,value in dict_2.items()}\n",
    "new_dict"
   ]
  },
  {
   "cell_type": "markdown",
   "metadata": {},
   "source": [
    "We can also use dictionary comprehension to create a dictionary from a list. \n",
    "\n",
    "Let's keep the values of the `numbers` list as the dictionary `keys`, and as the dictionary `values`, we want those numbers squared. "
   ]
  },
  {
   "cell_type": "code",
   "execution_count": 5,
   "metadata": {
    "lang": "en"
   },
   "outputs": [
    {
     "name": "stdout",
     "output_type": "stream",
     "text": [
      "{1: 1, 2: 4, 3: 9, 4: 16, 5: 25}\n"
     ]
    }
   ],
   "source": [
    "numbers = [1, 2, 3, 4, 5]\n",
    "squared_dict = {num: num**2 for num in numbers}\n",
    "print(squared_dict)"
   ]
  },
  {
   "cell_type": "markdown",
   "metadata": {
    "lang": "en"
   },
   "source": [
    "## 💡 Check for understanding\n",
    "\n",
    "You have a list of words. Write a dictionary containing the length of each word."
   ]
  },
  {
   "cell_type": "code",
   "execution_count": 23,
   "metadata": {},
   "outputs": [],
   "source": [
    "list_of_words = [\"football\", \"climbing\", \"swimming\", \"golf\"]"
   ]
  },
  {
   "cell_type": "code",
   "execution_count": 24,
   "metadata": {},
   "outputs": [
    {
     "data": {
      "text/plain": [
       "{'football': 8, 'climbing': 8, 'swimming': 8, 'golf': 4}"
      ]
     },
     "execution_count": 24,
     "metadata": {},
     "output_type": "execute_result"
    }
   ],
   "source": [
    "# Your code goes here\n",
    "\n",
    "new_dict = {word:len(word) for word in list_of_words}\n",
    "\n",
    "new_dict\n",
    "\n",
    "\n"
   ]
  },
  {
   "cell_type": "markdown",
   "metadata": {},
   "source": [
    "# Set Comprehension"
   ]
  },
  {
   "cell_type": "markdown",
   "metadata": {},
   "source": [
    "The syntax for set comprehension is quite similar to list comprehension:\n",
    "\n",
    "```python\n",
    "new_set = {expression for item in iterable}\n",
    "```"
   ]
  },
  {
   "cell_type": "markdown",
   "metadata": {
    "lang": "en"
   },
   "source": [
    "## 💡 Check for understanding\n",
    "\n",
    "Use set comprehension to create a set with only unique country codes"
   ]
  },
  {
   "cell_type": "code",
   "execution_count": 40,
   "metadata": {},
   "outputs": [],
   "source": [
    "codes_countries = [\"es-91\", \"en-88\", \"fra-12\", \"it-33\", \"ar-55\", \"it-34\", \"es-98\"]"
   ]
  },
  {
   "cell_type": "code",
   "execution_count": 41,
   "metadata": {},
   "outputs": [],
   "source": [
    "# goal = {'AR', 'EN', 'ES', 'FRA', 'IT'}\n",
    "\n",
    "# getting just the letters\n",
    "# uppercase\n",
    "\n",
    "# Your code goes here"
   ]
  },
  {
   "cell_type": "code",
   "execution_count": 43,
   "metadata": {},
   "outputs": [
    {
     "data": {
      "text/plain": [
       "{'AR-55', 'EN-88', 'ES-91', 'ES-98', 'FRA-12', 'IT-33', 'IT-34'}"
      ]
     },
     "execution_count": 43,
     "metadata": {},
     "output_type": "execute_result"
    }
   ],
   "source": [
    "\n",
    "codes_capped = {codes.split(\"‐\")[0].upper() for codes in codes_countries} \n",
    "codes_capped"
   ]
  },
  {
   "cell_type": "markdown",
   "metadata": {},
   "source": [
    "# Summary"
   ]
  },
  {
   "cell_type": "markdown",
   "metadata": {},
   "source": [
    "- Comprehensions provide a quicker, more comfortable, and readable way to create lists, sets, and dictionaries.\n",
    "- Saves us some steps compared to traditional for loops (create empty list, use append method)\n",
    "- It supports conditions, enabling us to filter or modify elements during the creation process.\n",
    "- If an `else` statement is included, the order changes, offering flexibility in handling different conditions."
   ]
  },
  {
   "cell_type": "markdown",
   "metadata": {
    "lang": "es"
   },
   "source": [
    "# Extra"
   ]
  },
  {
   "cell_type": "markdown",
   "metadata": {},
   "source": [
    "## Nested list comprehensions"
   ]
  },
  {
   "cell_type": "markdown",
   "metadata": {},
   "source": [
    "Nested list comprehensions in Python allow you to create lists of lists or perform more complex transformations with multiple levels of iteration. The syntax involves placing one or more list comprehensions inside another."
   ]
  },
  {
   "cell_type": "markdown",
   "metadata": {},
   "source": [
    "```python\n",
    "new_list = [[expression for item in inner_list] for inner_list in outer_list]\n",
    "```"
   ]
  },
  {
   "cell_type": "markdown",
   "metadata": {},
   "source": [
    "Example: Flattening a List of Lists"
   ]
  },
  {
   "cell_type": "code",
   "execution_count": null,
   "metadata": {},
   "outputs": [],
   "source": [
    "list_of_lists = [[1, 2, 3], [4, 5], [6, 7, 8, 9]]\n",
    "flattened_list = []\n",
    "for sublist in list_of_lists:\n",
    "    for num in sublist:\n",
    "        flattened_list.append(num)"
   ]
  },
  {
   "cell_type": "code",
   "execution_count": null,
   "metadata": {},
   "outputs": [],
   "source": [
    "# Using nested list comprehension to flatten a list of lists\n",
    "flattened_list = [num for sublist in list_of_lists for num in sublist]\n",
    "print(flattened_list)"
   ]
  },
  {
   "cell_type": "markdown",
   "metadata": {},
   "source": [
    "Another example"
   ]
  },
  {
   "cell_type": "code",
   "execution_count": null,
   "metadata": {},
   "outputs": [],
   "source": [
    "nested_comprehension = [[[\"Peter\", \"18\"], [\"Clara\", \"20\"]], [['Megan', '35']], [['Marc', '32']]]\n",
    "\n",
    "flattened = []\n",
    "\n",
    "for i in nested_comprehension:\n",
    "    for element in i:\n",
    "        for x in element:\n",
    "            flattened.append(x) \n",
    "            \n",
    "flattened"
   ]
  },
  {
   "cell_type": "code",
   "execution_count": null,
   "metadata": {},
   "outputs": [],
   "source": [
    "flattened_comp = [x for i in nested_comprehension for element in i for x in element]\n",
    "flattened_comp"
   ]
  },
  {
   "cell_type": "markdown",
   "metadata": {},
   "source": [
    "## Dict comprehension from two lists"
   ]
  },
  {
   "cell_type": "markdown",
   "metadata": {
    "lang": "en"
   },
   "source": [
    "We can also use dictionary comprehension to create a dictionary from two lists, one will be the `keys`and the other one the `values`."
   ]
  },
  {
   "cell_type": "code",
   "execution_count": null,
   "metadata": {},
   "outputs": [],
   "source": [
    "names = [\"venice\", \"sam\", \"clara\"]\n",
    "ages = [\"32\", \"21\", \"15\"]\n",
    "\n",
    "the_goal = {\"venice\": \"32\",\n",
    " \"sam\": \"21\",\n",
    " \"clara\":\"15\" \n",
    "}"
   ]
  },
  {
   "cell_type": "code",
   "execution_count": null,
   "metadata": {
    "scrolled": true
   },
   "outputs": [],
   "source": [
    "# using a for loop\n",
    "new_dictionary = {}\n",
    "\n",
    "for person, age in zip(names, ages):\n",
    "    new_dictionary[person] = age\n",
    "    #print(f\"Person: {person}, emoji: {picture}\")\n",
    "print(new_dictionary)"
   ]
  },
  {
   "cell_type": "code",
   "execution_count": null,
   "metadata": {},
   "outputs": [],
   "source": [
    "new_dict = {person:age for person, age in zip(names, ages)}\n",
    "new_dict"
   ]
  }
 ],
 "metadata": {
  "kernelspec": {
   "display_name": "Python 3",
   "language": "python",
   "name": "python3"
  },
  "language_info": {
   "codemirror_mode": {
    "name": "ipython",
    "version": 3
   },
   "file_extension": ".py",
   "mimetype": "text/x-python",
   "name": "python",
   "nbconvert_exporter": "python",
   "pygments_lexer": "ipython3",
   "version": "3.8.5"
  },
  "toc": {
   "base_numbering": 1,
   "nav_menu": {},
   "number_sections": true,
   "sideBar": true,
   "skip_h1_title": false,
   "title_cell": "Table of Contents",
   "title_sidebar": "Contents",
   "toc_cell": true,
   "toc_position": {},
   "toc_section_display": true,
   "toc_window_display": true
  }
 },
 "nbformat": 4,
 "nbformat_minor": 5
}
