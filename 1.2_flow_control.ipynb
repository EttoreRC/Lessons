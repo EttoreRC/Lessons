{
 "cells": [
  {
   "cell_type": "markdown",
   "metadata": {
    "toc": true
   },
   "source": [
    "<h1>Table of Contents<span class=\"tocSkip\"></span></h1>\n",
    "<div class=\"toc\"><ul class=\"toc-item\"><li><span><a href=\"#Flow-control\" data-toc-modified-id=\"Flow-control-1\"><span class=\"toc-item-num\">1&nbsp;&nbsp;</span>Flow control</a></span><ul class=\"toc-item\"><li><span><a href=\"#Conditional-Statements:-if,-elif,-else\" data-toc-modified-id=\"Conditional-Statements:-if,-elif,-else-1.1\"><span class=\"toc-item-num\">1.1&nbsp;&nbsp;</span>Conditional Statements: <code>if</code>, <code>elif</code>, <code>else</code></a></span><ul class=\"toc-item\"><li><span><a href=\"#Multiple-Conditions-with-Logical-Operators\" data-toc-modified-id=\"Multiple-Conditions-with-Logical-Operators-1.1.1\"><span class=\"toc-item-num\">1.1.1&nbsp;&nbsp;</span>Multiple Conditions with Logical Operators</a></span></li><li><span><a href=\"#Nested-Conditional-Statements\" data-toc-modified-id=\"Nested-Conditional-Statements-1.1.2\"><span class=\"toc-item-num\">1.1.2&nbsp;&nbsp;</span>Nested Conditional Statements</a></span></li></ul></li><li><span><a href=\"#Iterations\" data-toc-modified-id=\"Iterations-1.2\"><span class=\"toc-item-num\">1.2&nbsp;&nbsp;</span>Iterations</a></span><ul class=\"toc-item\"><li><span><a href=\"#For-Loop\" data-toc-modified-id=\"For-Loop-1.2.1\"><span class=\"toc-item-num\">1.2.1&nbsp;&nbsp;</span>For Loop</a></span><ul class=\"toc-item\"><li><span><a href=\"#Iterating-through-a-list\" data-toc-modified-id=\"Iterating-through-a-list-1.2.1.1\"><span class=\"toc-item-num\">1.2.1.1&nbsp;&nbsp;</span>Iterating through a list</a></span></li><li><span><a href=\"#Iterating-with-the-range()-function\" data-toc-modified-id=\"Iterating-with-the-range()-function-1.2.1.2\"><span class=\"toc-item-num\">1.2.1.2&nbsp;&nbsp;</span>Iterating with the range() function</a></span></li><li><span><a href=\"#Combining-loops-with-conditional-statements\" data-toc-modified-id=\"Combining-loops-with-conditional-statements-1.2.1.3\"><span class=\"toc-item-num\">1.2.1.3&nbsp;&nbsp;</span>Combining loops with conditional statements</a></span></li><li><span><a href=\"#Iterating-on-dictionaries\" data-toc-modified-id=\"Iterating-on-dictionaries-1.2.1.4\"><span class=\"toc-item-num\">1.2.1.4&nbsp;&nbsp;</span>Iterating on dictionaries</a></span></li><li><span><a href=\"#Nested-for-loops\" data-toc-modified-id=\"Nested-for-loops-1.2.1.5\"><span class=\"toc-item-num\">1.2.1.5&nbsp;&nbsp;</span>Nested for loops</a></span></li></ul></li><li><span><a href=\"#While-Loop\" data-toc-modified-id=\"While-Loop-1.2.2\"><span class=\"toc-item-num\">1.2.2&nbsp;&nbsp;</span>While Loop</a></span></li><li><span><a href=\"#For-vs-While-loops\" data-toc-modified-id=\"For-vs-While-loops-1.2.3\"><span class=\"toc-item-num\">1.2.3&nbsp;&nbsp;</span>For vs While loops</a></span></li><li><span><a href=\"#💡-Check-for-understanding\" data-toc-modified-id=\"💡-Check-for-understanding-1.2.4\"><span class=\"toc-item-num\">1.2.4&nbsp;&nbsp;</span>💡 Check for understanding</a></span></li></ul></li><li><span><a href=\"#Summary\" data-toc-modified-id=\"Summary-1.3\"><span class=\"toc-item-num\">1.3&nbsp;&nbsp;</span>Summary</a></span></li></ul></li><li><span><a href=\"#Extra:-More-examples-with-flow-control\" data-toc-modified-id=\"Extra:-More-examples-with-flow-control-2\"><span class=\"toc-item-num\">2&nbsp;&nbsp;</span>Extra: More examples with flow control</a></span><ul class=\"toc-item\"><li><span><a href=\"#If-elif-else\" data-toc-modified-id=\"If-elif-else-2.1\"><span class=\"toc-item-num\">2.1&nbsp;&nbsp;</span>If-elif-else</a></span></li><li><span><a href=\"#For\" data-toc-modified-id=\"For-2.2\"><span class=\"toc-item-num\">2.2&nbsp;&nbsp;</span>For</a></span><ul class=\"toc-item\"><li><span><a href=\"#Iterating-through-a-string\" data-toc-modified-id=\"Iterating-through-a-string-2.2.1\"><span class=\"toc-item-num\">2.2.1&nbsp;&nbsp;</span>Iterating through a string</a></span></li><li><span><a href=\"#Incrementing-a-variable-with-a-loop\" data-toc-modified-id=\"Incrementing-a-variable-with-a-loop-2.2.2\"><span class=\"toc-item-num\">2.2.2&nbsp;&nbsp;</span>Incrementing a variable with a loop</a></span></li><li><span><a href=\"#Create-an-empty-list-and-populate-it\" data-toc-modified-id=\"Create-an-empty-list-and-populate-it-2.2.3\"><span class=\"toc-item-num\">2.2.3&nbsp;&nbsp;</span>Create an empty list and populate it</a></span></li></ul></li><li><span><a href=\"#While\" data-toc-modified-id=\"While-2.3\"><span class=\"toc-item-num\">2.3&nbsp;&nbsp;</span>While</a></span></li><li><span><a href=\"#Nesting\" data-toc-modified-id=\"Nesting-2.4\"><span class=\"toc-item-num\">2.4&nbsp;&nbsp;</span>Nesting</a></span></li></ul></li><li><span><a href=\"#Extra:-enumerate-and-zip-function\" data-toc-modified-id=\"Extra:-enumerate-and-zip-function-3\"><span class=\"toc-item-num\">3&nbsp;&nbsp;</span>Extra: enumerate and zip function</a></span><ul class=\"toc-item\"><li><span><a href=\"#Enumerate-function:-Iterate-through-lists-over-their-index\" data-toc-modified-id=\"Enumerate-function:-Iterate-through-lists-over-their-index-3.1\"><span class=\"toc-item-num\">3.1&nbsp;&nbsp;</span>Enumerate function: Iterate through lists over their index</a></span></li><li><span><a href=\"#Zip-function:-Loop-through-two-lists-at-the-same-time\" data-toc-modified-id=\"Zip-function:-Loop-through-two-lists-at-the-same-time-3.2\"><span class=\"toc-item-num\">3.2&nbsp;&nbsp;</span>Zip function: Loop through two lists at the same time</a></span></li></ul></li></ul></div>"
   ]
  },
  {
   "cell_type": "markdown",
   "metadata": {},
   "source": [
    "# Flow control"
   ]
  },
  {
   "cell_type": "markdown",
   "metadata": {},
   "source": [
    "![FLOW](https://media.giphy.com/media/h8y265b9iKtzKT0pDj/giphy.gif)"
   ]
  },
  {
   "cell_type": "markdown",
   "metadata": {},
   "source": [
    "## Conditional Statements: `if`, `elif`, `else`"
   ]
  },
  {
   "cell_type": "markdown",
   "metadata": {},
   "source": [
    "Conditional statements in Python (if, elif, else) help control program flow based on conditions.\n",
    "\n",
    "- These conditional statements allow us to execute specific blocks of code only when the conditions are met.\n",
    "- To check conditions, we make use of comparison operators returning True or False."
   ]
  },
  {
   "cell_type": "markdown",
   "metadata": {},
   "source": [
    "```python\n",
    "if condition1:\n",
    "    # code to execute if condition1 is true\n",
    "elif condition2:\n",
    "    # code to execute if condition2 is true\n",
    "elif condition3:\n",
    "    # code to execute if condition3 is true\n",
    "# ...more elif statements can be added if needed\n",
    "else:\n",
    "    # code to execute if all conditions are false\n",
    "```"
   ]
  },
  {
   "cell_type": "markdown",
   "metadata": {},
   "source": [
    "The `if` statement executes a code block if a condition is true. \n",
    "\n",
    "`elif` statement (optional) checks additional conditions after the `if` statement (in case the `if` condition is not met).\n",
    "\n",
    "`else` statement (optional) provides a default code block when preceding conditions are false. "
   ]
  },
  {
   "cell_type": "markdown",
   "metadata": {},
   "source": [
    "![](https://github.com/data-bootcamp-v4/lessons/blob/main/img/if-else.png?raw=true)"
   ]
  },
  {
   "cell_type": "code",
   "execution_count": null,
   "metadata": {},
   "outputs": [],
   "source": [
    "a = 10\n",
    "b = 11\n",
    "\n",
    "if a > b: # Here we are trying to find if a is greater than b\n",
    "    print('a is greater')\n",
    "    print('Value of a is',a)  \n",
    "    print('And value of b is',b)\n",
    "elif a < b: # Here we are trying to find if b is greater than a\n",
    "    print('b is greater')\n",
    "    print('Value of a is', a)\n",
    "    print('And value of b is',b)\n",
    "else: # If none of the above are True, then we execute the else statement\n",
    "    print('a and b are equal')\n",
    "print(\"Done!\")\n"
   ]
  },
  {
   "cell_type": "markdown",
   "metadata": {},
   "source": [
    "Pay attention to the colon `:` after the condition or `else`, as this marks the starting point of the code to be executed. "
   ]
  },
  {
   "cell_type": "markdown",
   "metadata": {},
   "source": [
    "In the previous code, the indentation of the `print()` statements indicates their association with specific conditions. Indentation is automatically applied by Jupyter every time you type `:`. "
   ]
  },
  {
   "cell_type": "markdown",
   "metadata": {},
   "source": [
    "The last `print(\"Done!\")` will be executed regardless of the `a > b` or `a < b` condition because it is not *indented*."
   ]
  },
  {
   "cell_type": "markdown",
   "metadata": {},
   "source": [
    "### Multiple Conditions with Logical Operators"
   ]
  },
  {
   "cell_type": "markdown",
   "metadata": {},
   "source": [
    "Logical operators in Python combine conditions in conditional statements:\n",
    "\n",
    "- `and` returns True if both conditions are true, otherwise False.\n",
    "- `or` returns True if at least one condition is true, otherwise False.\n",
    "- `not` negates the condition's value: True becomes False and vice versa."
   ]
  },
  {
   "cell_type": "markdown",
   "metadata": {},
   "source": [
    "![](https://github.com/data-bootcamp-v4/lessons/blob/main/img/boolean_ops.png?raw=true)"
   ]
  },
  {
   "cell_type": "markdown",
   "metadata": {},
   "source": [
    "Let's look at an example to understand how multiple conditions with logical operators can be implemented in Python:"
   ]
  },
  {
   "cell_type": "code",
   "execution_count": null,
   "metadata": {},
   "outputs": [],
   "source": [
    "number = int(input(\"Enter a number: \")) # we prompt the user to enter a number, which we store in the number variable\n",
    "\n",
    "if number > 0 and number % 2 == 0: # number > 0 checks if the number is positive, and number % 2 == 0 checks if it is even\n",
    "    # if both conditions are true, the following print will be executed\n",
    "    print(\"The number is positive and even.\")\n",
    "elif number < 0 or number % 2 != 0: # If at least one of these conditions is true, the code block under the elif statement will execute\n",
    "    print(\"The number is negative or odd.\")\n",
    "else: # if none of the conditions in the if and elif statements are true, the code block under the else statement will execute\n",
    "    print(\"The number is zero.\")\n"
   ]
  },
  {
   "cell_type": "markdown",
   "metadata": {},
   "source": [
    "### Nested Conditional Statements "
   ]
  },
  {
   "cell_type": "markdown",
   "metadata": {},
   "source": [
    "A nested conditional statement is a conditional statement (if, elif, or else) that is placed inside another conditional statement.\n",
    "\n",
    "The structure of nested conditional statements is as follows:"
   ]
  },
  {
   "cell_type": "markdown",
   "metadata": {},
   "source": [
    "```python\n",
    "if condition1:\n",
    "    # code block for condition1\n",
    "    if condition2:\n",
    "        # code block for condition2\n",
    "    elif condition3:\n",
    "        # code block for condition3\n",
    "    else:\n",
    "        # code block if condition2 and condition3 are false\n",
    "else:\n",
    "    # code block if condition1 is false\n",
    "\n",
    "```"
   ]
  },
  {
   "cell_type": "markdown",
   "metadata": {},
   "source": [
    "Let's look at an example to understand how nested conditional statements can be implemented in Python:\n",
    "\n"
   ]
  },
  {
   "cell_type": "code",
   "execution_count": null,
   "metadata": {},
   "outputs": [],
   "source": [
    "number = int(input(\"Enter a number: \"))\n",
    "\n",
    "if number > 0: # checks if number is greater than 0. If it is true, the code block under the outer if statement is executed\n",
    "    print(\"The number is positive.\")\n",
    "    \n",
    "    if number % 2 == 0: # if the number is even, then the print below is executed\n",
    "        print(\"The number is even.\")\n",
    "    else: # if the number is odd, then the print below is executed\n",
    "        print(\"The number is odd.\")\n",
    "        \n",
    "else: #if the number was not greater than 0, only the print below is executed\n",
    "    print(\"The number is either zero or negative.\")\n"
   ]
  },
  {
   "cell_type": "markdown",
   "metadata": {
    "id": "KrahGtLGD6ON",
    "tags": []
   },
   "source": [
    "## Iterations "
   ]
  },
  {
   "cell_type": "markdown",
   "metadata": {},
   "source": [
    "Iterations are a fundamental concept in programming that allow us to repeat a block of code multiple times. "
   ]
  },
  {
   "cell_type": "markdown",
   "metadata": {},
   "source": [
    "In Python, there are two primary ways to perform **loops**: using **`for` loops** and **`while` loops**."
   ]
  },
  {
   "cell_type": "markdown",
   "metadata": {},
   "source": [
    "### For Loop\n",
    "\n",
    "A `for` loop is used to **iterate over a sequence** (such as a list, tuple, or string) or any iterable object. It **executes a block of code for each item** in the sequence.\n",
    "```python\n",
    "for item in sequence:\n",
    "    # Code to be executed for each item\n",
    "```\n",
    "- `for` keyword: Initiates the for loop.\n",
    "- `item`: Represents the variable holding the current item in each iteration, assigned values from the sequence.\n",
    "- `in` operator: Specifies the sequence or collection to iterate over.\n",
    "- `sequence`: Refers to the iterable object being looped through.\n",
    "- `:` colon: Marks the start of the loop block, with subsequent lines indented consistently.\n",
    "- `Code to be executed`: Contains the statements within the loop block, executed for each item in the sequence, respecting the indentation and order."
   ]
  },
  {
   "cell_type": "markdown",
   "metadata": {},
   "source": [
    "Let's look at some examples to understand how the `for` loop works. "
   ]
  },
  {
   "cell_type": "markdown",
   "metadata": {},
   "source": [
    "#### Iterating through a list"
   ]
  },
  {
   "cell_type": "code",
   "execution_count": 5,
   "metadata": {},
   "outputs": [
    {
     "name": "stdout",
     "output_type": "stream",
     "text": [
      "too short\n",
      "banana\n",
      "hey!\n",
      "orange\n",
      "hey!\n",
      "This line is outside the loop so it is only executed once\n"
     ]
    }
   ],
   "source": [
    "fruits = [\"apple\", \"banana\", \"orange\"]\n",
    "\n",
    "for fruit in fruits:\n",
    "    if len(fruit) > 5:\n",
    "        print(fruit) # This is executed 3 times since there are 3 elements in the fruits list\n",
    "        print(\"hey!\") # This is also inside the loop and it is executed 3 times, each time after the previous line is executed\n",
    "    else:\n",
    "        print(\"too short\")\n",
    "print(\"This line is outside the loop so it is only executed once\")"
   ]
  },
  {
   "cell_type": "markdown",
   "metadata": {},
   "source": [
    "In this example, the variable fruit takes on each item in the fruits list, and the prints statements are executed for each item.\n",
    "\n",
    "The loop will iterate through all items in the sequence, executing the statement block once for each item."
   ]
  },
  {
   "cell_type": "markdown",
   "metadata": {},
   "source": [
    "Code blocks that have the same indentation level are executed together. This is true not only for conditional statements like if, elif, and else, but also for loops and other structures."
   ]
  },
  {
   "cell_type": "markdown",
   "metadata": {},
   "source": [
    "#### Iterating with the range() function"
   ]
  },
  {
   "cell_type": "markdown",
   "metadata": {},
   "source": [
    "To print numbers from 1 to 5 using `range()`, use:\n",
    "\n",
    "- `range(stop)`: Generates numbers from 0 to (stop-1).\n",
    "- `range(start, stop)`: Generates numbers from start to (stop-1).\n",
    "- `range(start, stop, step)`: Generates numbers from start to (stop-1) with a specified step."
   ]
  },
  {
   "cell_type": "code",
   "execution_count": null,
   "metadata": {
    "id": "qcU1NWarD6OY",
    "outputId": "69003652-5770-4e33-e101-b973815078fe"
   },
   "outputs": [],
   "source": [
    "# \"i\" is the variable here. It takes on values from the range() function from 0 to 9, iteratively\n",
    "# By default, the values are generated starting with 0 \n",
    "for i in range(10):  \n",
    "    print(i)"
   ]
  },
  {
   "cell_type": "markdown",
   "metadata": {},
   "source": [
    "#### Combining loops with conditional statements"
   ]
  },
  {
   "cell_type": "markdown",
   "metadata": {},
   "source": [
    "You can **combine for loops with conditional statements (if-else)** to perform certain actions based on specific conditions. \n",
    "\n",
    "Here's an example that prints only the even numbers from 1 to 10:"
   ]
  },
  {
   "cell_type": "code",
   "execution_count": null,
   "metadata": {},
   "outputs": [],
   "source": [
    "for number in range(1, 11):\n",
    "    if number % 2 == 0:\n",
    "        print(number)"
   ]
  },
  {
   "cell_type": "markdown",
   "metadata": {
    "id": "d8IHtPpKD6OZ"
   },
   "source": [
    "Pay attention to the flow of the code and the indentation. `if` condition is executed 10 times, but \"number\" is only printed when the condition is met because it is contained inside the `if` statement."
   ]
  },
  {
   "cell_type": "markdown",
   "metadata": {
    "id": "m5U0Px-2D6Og"
   },
   "source": [
    "#### Iterating on dictionaries\n"
   ]
  },
  {
   "cell_type": "markdown",
   "metadata": {},
   "source": [
    "By applying the `.keys()` method on a dictionary, we can obtain an iterable object that can be used in a `for` loop to iterate over all the keys of the dictionary, one by one."
   ]
  },
  {
   "cell_type": "code",
   "execution_count": null,
   "metadata": {
    "id": "G2SyxXhxD6Oh",
    "outputId": "57b01699-9206-472a-d7bd-e4d7a6f912bf"
   },
   "outputs": [],
   "source": [
    "my_dict = {'name': 'John', 'age': 25, 'city': 'New York'}\n",
    "\n",
    "# Iterating over the keys using a for loop\n",
    "for key in my_dict.keys():\n",
    "    # Accessing each key\n",
    "    print(key)"
   ]
  },
  {
   "cell_type": "markdown",
   "metadata": {
    "id": "WtceUnfID6Oh"
   },
   "source": [
    "By applying the `.values()` method on a dictionary, we can obtain an iterable object that can be used in a for `loop` to iterate over all the values of the dictionary, one by one."
   ]
  },
  {
   "cell_type": "code",
   "execution_count": null,
   "metadata": {
    "id": "QmemmBirD6Oh"
   },
   "outputs": [],
   "source": [
    "# Iterating over the values using a for loop\n",
    "for value in my_dict.values():\n",
    "    # Accessing each value\n",
    "    print(value)"
   ]
  },
  {
   "cell_type": "markdown",
   "metadata": {},
   "source": [
    "By applying the `.items()` method on a dictionary, we can obtain an iterable object that contains all the key-value pairs in the dictionary. This iterable can be used in a `for` loop to iterate over each key-value pair."
   ]
  },
  {
   "cell_type": "code",
   "execution_count": null,
   "metadata": {
    "id": "TGbVZ5UHD6Oi",
    "outputId": "2b27b9eb-e6f5-4b5a-b489-b3666a45c836",
    "scrolled": true
   },
   "outputs": [],
   "source": [
    "# Iterating over the key-value pairs using a for loop\n",
    "for key, value in my_dict.items():\n",
    "    # Accessing each key-value pair\n",
    "    print(\"For \", key, \" the value is: \", value)"
   ]
  },
  {
   "cell_type": "markdown",
   "metadata": {},
   "source": [
    "In this case, the `.items()` method returns an iterable of tuples, where each tuple represents a key-value pair from the dictionary `my_dict`. The `for` loop then iterates over each tuple, and within the loop, you can access both the key and the corresponding value and perform operations or work with them as needed."
   ]
  },
  {
   "cell_type": "markdown",
   "metadata": {},
   "source": [
    "#### Nested for loops"
   ]
  },
  {
   "cell_type": "markdown",
   "metadata": {},
   "source": [
    "By nesting one loop inside another, we can achieve more complex iterations. "
   ]
  },
  {
   "cell_type": "markdown",
   "metadata": {},
   "source": [
    "![](https://github.com/data-bootcamp-v4/lessons/blob/main/img/nested-loop.png?raw=true)"
   ]
  },
  {
   "cell_type": "code",
   "execution_count": null,
   "metadata": {},
   "outputs": [],
   "source": [
    "for i in range(1,10):\n",
    "    for j in range(10,12):\n",
    "        print(i,j)"
   ]
  },
  {
   "cell_type": "markdown",
   "metadata": {},
   "source": [
    "Variable `i` will iterate in range(1,10), which means `i` will be 1, 2..,9.\n",
    "\n",
    "For each `i`, it will iterate with `j` in range (10,12), which means `j` will be 10,11. \n",
    "\n",
    "For each combination of `i` and `j`, it will print both of them."
   ]
  },
  {
   "cell_type": "markdown",
   "metadata": {
    "id": "uYpFsglHD6Ob"
   },
   "source": [
    "-----------------------------"
   ]
  },
  {
   "cell_type": "markdown",
   "metadata": {},
   "source": [
    "### While Loop\n",
    "\n",
    "A `while` loop repeatedly **executes a block of code as long as a given condition is true**. It keeps iterating until the condition becomes false."
   ]
  },
  {
   "cell_type": "markdown",
   "metadata": {},
   "source": [
    "```python\n",
    "while condition:\n",
    "    # Code to be executed\n",
    "```"
   ]
  },
  {
   "cell_type": "markdown",
   "metadata": {
    "id": "tQWD_j80D6Ok"
   },
   "source": [
    "where:\n",
    "- `condition`: A logical condition in Python that evaluates to either True or False. It determines whether the block of code inside the loop is executed or not.\n",
    "- `code to be executed`: The indented block of code that runs as long as the condition is True."
   ]
  },
  {
   "cell_type": "markdown",
   "metadata": {
    "id": "5RiXFnq4D6Oj"
   },
   "source": [
    "When the condition of the while loop becomes false, the code inside the loop stops executing, and the program proceeds with the code after the while loop. **Ensure the condition eventually changes to false to avoid infinite loops.**\n"
   ]
  },
  {
   "cell_type": "markdown",
   "metadata": {},
   "source": [
    "![](https://github.com/data-bootcamp-v4/lessons/blob/main/img/while-loop.png?raw=true)"
   ]
  },
  {
   "cell_type": "code",
   "execution_count": 19,
   "metadata": {},
   "outputs": [
    {
     "name": "stdout",
     "output_type": "stream",
     "text": [
      "Count: 0\n",
      "Count: 1\n",
      "Count: 2\n",
      "Count: 3\n",
      "Count: 4\n"
     ]
    }
   ],
   "source": [
    "count = 0\n",
    "while count < 5: # The while loop checks if count is less than 5. If it is, the block of code inside the loop is executed\n",
    "    print(\"Count:\", count)\n",
    "    count += 1 # The value of count is updated based on how many times we want the loop to run or the specific conditions we want to apply.\n",
    "    \n"
   ]
  },
  {
   "cell_type": "code",
   "execution_count": 20,
   "metadata": {},
   "outputs": [
    {
     "name": "stdout",
     "output_type": "stream",
     "text": [
      "Count: 1\n"
     ]
    }
   ],
   "source": [
    "count = 1\n",
    "while count < 5:\n",
    "    print(\"Count:\", count)\n",
    "    if count % 4 ==0:\n",
    "        print(\"done\")\n",
    "    break"
   ]
  },
  {
   "cell_type": "markdown",
   "metadata": {
    "id": "C1WrfMEZD6Ok"
   },
   "source": [
    "**Beware** that we need to change the value of the variable `count` inside the while loop. Otherwise the loop will never end as `count<5` will always be true. "
   ]
  },
  {
   "cell_type": "markdown",
   "metadata": {},
   "source": [
    "### For vs While loops"
   ]
  },
  {
   "cell_type": "markdown",
   "metadata": {},
   "source": [
    "❗Understanding when to use a `for` loop versus a `while` loop is important. Here's a simple guideline:\n",
    "\n",
    "`For` Loop: Use a `for` loop **when you know the number of repetitions**, regardless of how many. For example, if you need to repeat a task 10 times, use a `for` loop.\n",
    "\n",
    "`While` Loop: Use a `while` loop when **the number of repetitions is not fixed and depends on a condition**. For example, if you need to keep repeating a task until a specific condition is met, use a `while` loop."
   ]
  },
  {
   "cell_type": "markdown",
   "metadata": {},
   "source": [
    "Let's consider a few examples to illustrate this distinction:\n",
    "\n",
    "- For a punishment that requires writing a sentence 500 times, you know the exact number of repetitions in advance (500). Hence, you should use a `for` loop.\n",
    "- However, when studying for an exam, the duration is uncertain. You will continue studying until you feel confident in mastering the lesson. In this case, you don't know the exact number of repetitions in advance, but you have a condition for stopping (mastering the lesson). Therefore, a `while` loop is more appropriate."
   ]
  },
  {
   "cell_type": "markdown",
   "metadata": {},
   "source": [
    "### 💡 Check for understanding"
   ]
  },
  {
   "cell_type": "markdown",
   "metadata": {
    "lang": "en"
   },
   "source": [
    "Write a program that prompts the user to enter a series of numbers. The program should store these numbers in a list and then determine whether each number is even or odd. Finally, display the results to the user."
   ]
  },
  {
   "cell_type": "code",
   "execution_count": 27,
   "metadata": {},
   "outputs": [
    {
     "name": "stdout",
     "output_type": "stream",
     "text": [
      "Enter a number12\n",
      "number is even\n",
      "done\n"
     ]
    }
   ],
   "source": [
    "numbers = []\n",
    "while len(numbers) < 5:\n",
    "    user_number = int(input(\"Enter a number\"))\n",
    "    numbers.append(user_number)\n",
    "for number in numbers:\n",
    "    if number %2==0:\n",
    "        print(\"number is even\")\n",
    "    else:\n",
    "        print(\"num\")\n",
    "print(\"done\")\n"
   ]
  },
  {
   "cell_type": "code",
   "execution_count": 30,
   "metadata": {},
   "outputs": [
    {
     "name": "stdout",
     "output_type": "stream",
     "text": [
      "Enter a numbers separate by space 11\n",
      "11 is odd\n",
      "done\n"
     ]
    }
   ],
   "source": [
    "numbers = []\n",
    "\n",
    "user_numbers = input(\"Enter a numbers separate by space \")\n",
    "user_numbers_list = user_numbers.split()\n",
    "for number in user_numbers_list:\n",
    "    if int(number) %2==0:\n",
    "        print(f\"{number} is even\")\n",
    "    else:\n",
    "        print(f\"{number} is odd\")\n",
    "print(\"done\")\n"
   ]
  },
  {
   "cell_type": "code",
   "execution_count": 23,
   "metadata": {},
   "outputs": [
    {
     "ename": "NameError",
     "evalue": "name 'number' is not defined",
     "output_type": "error",
     "traceback": [
      "\u001b[1;31m---------------------------------------------------------------------------\u001b[0m",
      "\u001b[1;31mNameError\u001b[0m                                 Traceback (most recent call last)",
      "\u001b[1;32m<ipython-input-23-3518527b6cf7>\u001b[0m in \u001b[0;36m<module>\u001b[1;34m\u001b[0m\n\u001b[1;32m----> 1\u001b[1;33m \u001b[0mmy_list\u001b[0m\u001b[1;33m.\u001b[0m\u001b[0mappend\u001b[0m\u001b[1;33m(\u001b[0m\u001b[0mnumber\u001b[0m\u001b[1;33m)\u001b[0m\u001b[1;33m\u001b[0m\u001b[1;33m\u001b[0m\u001b[0m\n\u001b[0m",
      "\u001b[1;31mNameError\u001b[0m: name 'number' is not defined"
     ]
    }
   ],
   "source": [
    "my_list.append(number)"
   ]
  },
  {
   "cell_type": "code",
   "execution_count": null,
   "metadata": {},
   "outputs": [],
   "source": []
  },
  {
   "cell_type": "markdown",
   "metadata": {},
   "source": [
    "**Please refer to the following hint only if you have attempted the Check for Understanding and are still confused. Do not read it before giving it a try.**:\n",
    "\n",
    "Here's a step-by-step guide:\n",
    "\n",
    "1. Create an empty list to store the numbers.\n",
    "2. Use a loop to prompt the user to enter numbers. Inside the loop, use the `input()` function to get a number from the user and convert it to an integer using the `int()` function.\n",
    "3. Append each number to the list.\n",
    "4. Iterate over each number in the list using a loop. Inside the loop, use an if-else statement to check if the number is even or odd.\n",
    "5. Display a message to the user indicating whether each number is even or odd."
   ]
  },
  {
   "cell_type": "markdown",
   "metadata": {},
   "source": [
    "## Summary\n",
    "\n",
    "Flow control in Python includes:\n",
    "\n",
    "- `if`, `elif`, and `else` statements for conditional execution:\n",
    "  - `if` is used to check a condition and execute a block of code if it's true.\n",
    "  - `elif` (else if) allows you to check additional conditions after the initial `if` statement.\n",
    "  - `else` provides a default block of code to execute if none of the previous conditions are true.\n",
    "\n",
    "- `for` loops for iterating over a sequence:\n",
    "  - `for` loops execute a block of code for each item in a sequence or iterable object.\n",
    "  - The current item is assigned to a variable in each iteration.\n",
    "\n",
    "- `while` loops for repeated execution:\n",
    "  - `while` loops repeatedly execute a block of code as long as a condition is true.\n",
    "  - They keep iterating as long as the condition remains true.\n",
    "\n",
    "- Nesting flow control constructs:\n",
    "  - Nesting refers to using one flow control construct within another."
   ]
  },
  {
   "cell_type": "markdown",
   "metadata": {},
   "source": [
    "# Extra: More examples with flow control"
   ]
  },
  {
   "cell_type": "markdown",
   "metadata": {},
   "source": [
    "## If-elif-else"
   ]
  },
  {
   "cell_type": "markdown",
   "metadata": {},
   "source": [
    "Let's see another example where we prompt the user to enter their age, and based on the input, we provide different messages:\n",
    "\n",
    "- If the age is 18 or above, it prints \"You can buy a beer.\"\n",
    "- If the age is between 16 and 18 (not including 18), it prints \"You can drive, but you can't buy.\"\n",
    "- For any other age, it prints \"You can't, sorry! Grow up!\""
   ]
  },
  {
   "cell_type": "code",
   "execution_count": null,
   "metadata": {},
   "outputs": [],
   "source": [
    "age = int(input(\"Enter your age \"))\n",
    "\n",
    "if age >= 18:\n",
    "    print(\"You can buy a  beer\")\n",
    "elif 16<=age<18:\n",
    "    # if you are between 16 and 18(not yet 18) cant buy, but can drive\n",
    "    print(\"You can drive, but you cant buy\")\n",
    "else:\n",
    "    print(\"You can't, sorry! Grow up!\")"
   ]
  },
  {
   "cell_type": "markdown",
   "metadata": {},
   "source": [
    "## For "
   ]
  },
  {
   "cell_type": "markdown",
   "metadata": {},
   "source": [
    "### Iterating through a string"
   ]
  },
  {
   "cell_type": "markdown",
   "metadata": {},
   "source": [
    "You can also use a for loop with strings. In the following example, we iterate over each character in a string and print them individually:"
   ]
  },
  {
   "cell_type": "code",
   "execution_count": null,
   "metadata": {},
   "outputs": [],
   "source": [
    "message = \"Hello, World!\"\n",
    "\n",
    "for char in message:\n",
    "    print(char)"
   ]
  },
  {
   "cell_type": "markdown",
   "metadata": {},
   "source": [
    "### Incrementing a variable with a loop"
   ]
  },
  {
   "cell_type": "markdown",
   "metadata": {},
   "source": [
    "In the next example, we'll demonstrate how to use a for loop to increment a variable by a constant value at each iteration. We'll start with an initial value of `a` and increase it by a fixed amount in each iteration of the loop. After each iteration, we'll print the value of `a`. Finally, we'll print the final value of `a` once the for loop completes."
   ]
  },
  {
   "cell_type": "code",
   "execution_count": null,
   "metadata": {},
   "outputs": [],
   "source": [
    "a = 0  # Initial value of 'a'\n",
    "increment = 5  # Constant value to increment 'a' by\n",
    "\n",
    "for i in range(5):  # Iterate 5 times\n",
    "    a += increment  # Increment 'a' by 'increment' value\n",
    "    print(a)  # Print the value of 'a' at each iteration\n",
    "\n",
    "print(\"Final value of 'a':\", a)  # Print the final value of 'a' after the for loop"
   ]
  },
  {
   "cell_type": "markdown",
   "metadata": {},
   "source": [
    "### Create an empty list and populate it"
   ]
  },
  {
   "cell_type": "markdown",
   "metadata": {},
   "source": [
    "In the following example, we'll demonstrate how to create an empty list and populate it with elements using iterations.\n",
    "\n",
    "Problem Statement: We have a list containing some integer elements, and we want to create a new list that consists of the squares of each element from the original list.\n",
    "\n",
    "To solve this problem, we can use the `append()` function, which specifically works with lists. It allows us to add elements of any kind to the end of a given list."
   ]
  },
  {
   "cell_type": "code",
   "execution_count": null,
   "metadata": {},
   "outputs": [],
   "source": [
    "original_list = [2, 4, 6, 8, 10]  # Given list with integer elements\n",
    "squared_list = []  # Empty list to store the squares\n",
    "\n",
    "for element in original_list:  # Iterate through each element in the original list\n",
    "    squared_list.append(element ** 2)  # Append the square of the element to the squared list\n",
    "\n",
    "print(\"Original List:\", original_list)\n",
    "print(\"Squared List:\", squared_list)"
   ]
  },
  {
   "cell_type": "markdown",
   "metadata": {},
   "source": [
    "## While"
   ]
  },
  {
   "cell_type": "markdown",
   "metadata": {},
   "source": [
    "Let's see another example where we iterate over the characters of a string."
   ]
  },
  {
   "cell_type": "code",
   "execution_count": null,
   "metadata": {
    "id": "boDQe79cD6Ok",
    "outputId": "fa5feddf-13d3-4499-a35d-e73949fe8498"
   },
   "outputs": [],
   "source": [
    "word = \"Ironhack\"\n",
    "i = 0\n",
    "while i < len(word): # The `len()` function returns how many elements (letters or blank spaces) the string has.\n",
    "    print(word[i])\n",
    "    i=i+1"
   ]
  },
  {
   "cell_type": "markdown",
   "metadata": {},
   "source": [
    "We can do the same using a `for` loop:"
   ]
  },
  {
   "cell_type": "code",
   "execution_count": null,
   "metadata": {},
   "outputs": [],
   "source": [
    "word = \"Ironhack\"\n",
    "for i in range(len(word)):\n",
    "    print(word[i])"
   ]
  },
  {
   "cell_type": "markdown",
   "metadata": {},
   "source": [
    "Example: Let's create a program that asks the user for a password and keeps prompting them until they enter the correct password."
   ]
  },
  {
   "cell_type": "code",
   "execution_count": null,
   "metadata": {},
   "outputs": [],
   "source": [
    "# Set the correct password\n",
    "correct_password = \"password123\"\n",
    "\n",
    "# Ask the user for input\n",
    "password = input(\"Enter the password: \")\n",
    "\n",
    "# Create a while loop\n",
    "while password != correct_password:\n",
    "    print(\"Incorrect password. Try again.\")\n",
    "    password = input(\"Enter the password: \")\n",
    "\n",
    "# Code after the while loop\n",
    "print(\"Login successful!\")\n"
   ]
  },
  {
   "cell_type": "markdown",
   "metadata": {},
   "source": [
    "Lets look at an example of code that prints a number from 0 until n where n is a number asked with input using a while"
   ]
  },
  {
   "cell_type": "code",
   "execution_count": null,
   "metadata": {},
   "outputs": [],
   "source": [
    "# code that prints a number from 0 until n\n",
    "# where n is a number asked with input. use a while\n",
    "n = int(input(\"Enter your number! \"))\n",
    "count = 0\n",
    "while count<=n:\n",
    "    print(count)\n",
    "    count += 1\n",
    "    # add 1 to something"
   ]
  },
  {
   "cell_type": "markdown",
   "metadata": {},
   "source": [
    "## Nesting"
   ]
  },
  {
   "cell_type": "markdown",
   "metadata": {},
   "source": [
    "Here are some examples to help you understand how nesting works."
   ]
  },
  {
   "cell_type": "code",
   "execution_count": null,
   "metadata": {},
   "outputs": [],
   "source": [
    "for x in range(10):\n",
    "    print(\"hello x is\",x)\n",
    "    i=0\n",
    "    print(\"i is \",i)\n",
    "    while i<3:\n",
    "        print(\"inside while\",i)\n",
    "        if i%2==0:\n",
    "            print('even')\n",
    "        i+=1\n",
    "    print(\"outside while\",x)"
   ]
  },
  {
   "cell_type": "markdown",
   "metadata": {},
   "source": [
    "Variable `x` will iterate in range(10), which means x will be 0, 1, 2..,9.\n",
    "\n",
    "For each `x`: \n",
    "- I print \"Hello x is\" and value of x (0,1,2..,9)\n",
    "- Set i = 0\n",
    "- Print \"i is\" and value of `i`. It wil always print `i is 0` because I have `i=0` and `print` before and outside the while.\n",
    "- Execute `while` while condition is met. Since `i` is 0, until `i` is >= 3.\n",
    "    - I print \"inside while\" and `i` value (0,1,2)\n",
    "    - If `i` is even, I print even. \n",
    "    - I add 1 to `i`. So `i`will be 0, 1, 2, 3 (when it takes value of 3, while will stop executing).\n",
    "\n",
    "- I print \"outside while\" and value of x (0,1,2...,9), same value as the first print in this list"
   ]
  },
  {
   "cell_type": "code",
   "execution_count": null,
   "metadata": {},
   "outputs": [],
   "source": [
    "i=0 #changed this from its previous position after the print(\"hello\")\n",
    "for x in range(10):\n",
    "    print(\"hello, x is\",x)\n",
    "    print(\"i is \",i)\n",
    "    while i<3:\n",
    "        print(\"inside while\",i)\n",
    "        if i%2==0:\n",
    "            print('even')\n",
    "        i+=1\n",
    "    print(\"outside while\",x)"
   ]
  },
  {
   "cell_type": "markdown",
   "metadata": {},
   "source": [
    "`i` is set to 0. **This is the difference with the example above, which changes things**.\n",
    "\n",
    "Variable `x` will iterate in range(10), which means x will be 0, 1, 2..,9.\n",
    "\n",
    "For each `x`: \n",
    "- I print \"Hello x is\" and value of x (0,1,2..,9)\n",
    "- Print \"i is\" and value of `i`. \n",
    "        - First time it will print `i is 0`\n",
    "        - Next times it will print `i is 3` since i don't reset `i`value inside the `for` loop, and its last value at the end of first and only execution of `while` is 3.\n",
    "- Execute `while` while condition is met. Since `i` is 0, until `i` is >= 3.\n",
    "    - I print \"inside while\" and `i` value (0,1,2)\n",
    "    - If `i` is even, I print even. \n",
    "    - I add 1 to `i`. So `i`will be 0, 1, 2, 3 (when it takes value of 3, while will stop executing).\n",
    "    - **Important** since i don't reset `i` value, the `while`will only execute when x=0, and one time. For x=1 and forward, `i` is 3 so while loop condition is not met.\n",
    "- I print \"outside while\" and value of x (0,1,2...,9), same value as the first print in this list"
   ]
  },
  {
   "cell_type": "code",
   "execution_count": null,
   "metadata": {},
   "outputs": [],
   "source": [
    "i = 0\n",
    "j = 5\n",
    "while i<3:\n",
    "    print(\"i is\",i)\n",
    "    i+=1\n",
    "    while j>0: #this only executes when i=0, because im not setting\n",
    "        #j back to 5 inside the first while loop\n",
    "        print(\"j is\",j)\n",
    "        j-=1"
   ]
  },
  {
   "cell_type": "markdown",
   "metadata": {},
   "source": [
    "- Set i=0\n",
    "- Set j=5\n",
    "- Outer loop `while`. Execute `while` while condition is met. Since `i` is 0, until `i` is >= 3.\n",
    "    - I print \"i is\" and `i` value (0,1,2)\n",
    "    - I add 1 to `i`. So `i`will be 0, 1, 2, 3 (when it takes value of 3, outer loop while will stop executing).\n",
    "    - Inner loop `while`. Execute `while` while condition is met. Since `j` is 5, while `j` is > 0.\n",
    "        - Print `j` is and value of `j`. \n",
    "        - Take 1 from `j`. (So `j` will be 5,4,3,2,1,0, in each execution of while).\n",
    "        - **Important** since i don't reset `j` value, the `while`will only execute when i=0, and one time. For i=1 and forward, `j` is 0 so while loop condition is not met.\n",
    "        \n",
    "        \n",
    "In other words, what will happen will be:\n",
    "- i=0\n",
    "- j=5\n",
    "- i<3? yes (i is 0)\n",
    "    - print i is 0\n",
    "    - i = 1\n",
    "    - j is > 0?\n",
    "        - print j is 5\n",
    "        - j = 4\n",
    "    - j is > 0?\n",
    "        - print j is 4\n",
    "        - j = 3\n",
    "    - j is > 0?\n",
    "        - print j is 3\n",
    "        - j = 2\n",
    "    - j is > 0?\n",
    "        - print j is 2\n",
    "        - j = 1\n",
    "    - j is > 0?\n",
    "        - print j is 1\n",
    "        - j = 0\n",
    "    - j is > 0? NO.\n",
    "- i<3? yes (i is 1)\n",
    "    - print i is 1\n",
    "    - i = 2\n",
    "    - j is > 0? NO\n",
    "- i<3? yes (i is 2)\n",
    "    - print i is 2\n",
    "    - i = 3\n",
    "    - j is > 0? NO\n",
    "- i<3? NO (i is 3)\n",
    "THE END"
   ]
  },
  {
   "cell_type": "markdown",
   "metadata": {},
   "source": [
    "# Extra: enumerate and zip function"
   ]
  },
  {
   "cell_type": "markdown",
   "metadata": {
    "lang": "en"
   },
   "source": [
    "## Enumerate function: Iterate through lists over their index\n",
    "\n",
    "In Python, we can iterate through a list and access both the index and value of each element using the `enumerate()` function. It returns an iterator that generates pairs of index and value for each element in the list. By using `enumerate()`, we can easily access and work with the index and value within the loop.\n",
    "\n",
    "- Built in functions --> https://docs.python.org/3/library/functions.html\n",
    "- Enumerate doc --> https://book.pythontips.com/en/latest/enumerate.html"
   ]
  },
  {
   "cell_type": "code",
   "execution_count": null,
   "metadata": {},
   "outputs": [],
   "source": [
    "fruits = ['apple', 'banana', 'orange']\n",
    "\n",
    "for index, fruit in enumerate(fruits):\n",
    "    print(\"Index:\", index, \"Fruit:\", fruit)"
   ]
  },
  {
   "cell_type": "markdown",
   "metadata": {
    "lang": "en"
   },
   "source": [
    "## Zip function: Loop through two lists at the same time"
   ]
  },
  {
   "cell_type": "markdown",
   "metadata": {},
   "source": [
    "In Python, the `zip()` function is used to combine multiple iterables into a single iterable of tuples. Each tuple contains elements from the corresponding positions of the input iterables. It allows you to iterate over multiple lists or other iterables together and work with their corresponding elements."
   ]
  },
  {
   "cell_type": "markdown",
   "metadata": {
    "lang": "en"
   },
   "source": [
    "The resulting iterable stops when the shortest input is exhausted. You can refer to the official [documentation](https://docs.python.org/3/library/functions.html) of `zip()` for more details on its usage and behavior.\n"
   ]
  },
  {
   "cell_type": "code",
   "execution_count": null,
   "metadata": {},
   "outputs": [],
   "source": [
    "names = ['Alice', 'Bob', 'Charlie']\n",
    "ages = [25, 30, 35]\n",
    "scores = [95, 80, 90]\n",
    "\n",
    "for name, age, score in zip(names, ages, scores):\n",
    "    print(name, 'is', age, 'years old and scored', score, 'on the test')"
   ]
  },
  {
   "cell_type": "markdown",
   "metadata": {},
   "source": [
    "In the following example, the `names` list has three elements, the `ages` list has two elements, and the `scores` list has three elements. Since `zip()` stops when the shortest input list (`ages`) is exhausted, the iteration only proceeds for two tuples."
   ]
  },
  {
   "cell_type": "code",
   "execution_count": null,
   "metadata": {},
   "outputs": [],
   "source": [
    "names = ['Alice', 'Bob', 'Charlie']\n",
    "ages = [25, 30]\n",
    "scores = [95, 80, 90]\n",
    "\n",
    "for name, age, score in zip(names, ages, scores):\n",
    "    print(name, 'is', age, 'years old and scored', score, 'on the test')\n"
   ]
  },
  {
   "cell_type": "markdown",
   "metadata": {},
   "source": [
    "In Python, you can \"unzip\" a list of tuples using the `zip()` function in combination with the `*` operator. This operation is commonly referred to as \"unzipping\" because it separates the tuples back into individual lists.\n",
    "\n",
    "Here's an example to illustrate how to unzip a list of tuples:"
   ]
  },
  {
   "cell_type": "code",
   "execution_count": null,
   "metadata": {},
   "outputs": [],
   "source": [
    "data = [('Alice', 25), ('Bob', 30), ('Charlie', 35)]\n",
    "\n",
    "names, ages = zip(*data)\n",
    "\n",
    "print(names)\n",
    "print(ages)"
   ]
  },
  {
   "cell_type": "markdown",
   "metadata": {},
   "source": [
    "In this example, the `data` list contains tuples representing names and ages. By using `zip(*data)`, we pass each tuple as separate arguments to the `zip()` function. The result is two separate tuples, one for names and one for ages.\n",
    "\n",
    "By assigning the result of `zip(*data)` to `names` and `ages`, we \"unzip\" the original list of tuples. Now, we have separate lists for names and ages, which we can print or use independently.\n",
    "\n",
    "This technique can be useful when you have a list of tuples and want to separate them into individual lists for further processing or analysis.\n",
    "\n",
    "It's important to note that when unzipping, the number of lists you unpack should match the number of elements in each tuple in the original list. If they don't match, you may encounter a `ValueError` due to the mismatch in the number of elements."
   ]
  }
 ],
 "metadata": {
  "kernelspec": {
   "display_name": "Python 3",
   "language": "python",
   "name": "python3"
  },
  "language_info": {
   "codemirror_mode": {
    "name": "ipython",
    "version": 3
   },
   "file_extension": ".py",
   "mimetype": "text/x-python",
   "name": "python",
   "nbconvert_exporter": "python",
   "pygments_lexer": "ipython3",
   "version": "3.8.5"
  },
  "toc": {
   "base_numbering": 1,
   "nav_menu": {},
   "number_sections": true,
   "sideBar": true,
   "skip_h1_title": false,
   "title_cell": "Table of Contents",
   "title_sidebar": "Contents",
   "toc_cell": true,
   "toc_position": {},
   "toc_section_display": true,
   "toc_window_display": true
  }
 },
 "nbformat": 4,
 "nbformat_minor": 5
}
